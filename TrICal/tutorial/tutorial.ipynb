{
 "cells": [
  {
   "cell_type": "markdown",
   "metadata": {},
   "source": [
    "# Trapped Ion Calculator (TrICal)\n",
    "\n",
    "\n",
    "This is a package for simulating a chain of trapped ions. The aim of this package is to remove the need for rewriting the same code to calculate equilibrium spacing, normal modes, and $J_{ij}$ every time a trap is being designed.\n",
    "\n",
    "## Class Structure\n",
    "![class structure](class_structure.png)\n",
    "\n",
    "The basic form of the class structure is shown in the diagram. Typically in an ion trap there are three major terms in the potential; the DC part, the RF part and the coulomb part. In this code the user will input the DC and RF parts into the potential class. For the RF potential the pondermotive approximation will have to be taken before inputing the potential into the code. \n",
    "\n",
    "## Usage\n",
    "\n",
    "The typical usage for this code will be to find the normal modes and frequencies for a given trap and for a given set of voltage applied to the trap electrodes. The potential around the centre of the trap is should be calculated via an appropriate method. The results of that calculation can then be input into the Potential class via three methods. The potential class is then used to calculate equilibrium spacing and normal modes. These are in turn fed into the SimulatedSpinLattice class to get out $J_{ij}$ coefficients."
   ]
  },
  {
   "cell_type": "code",
   "execution_count": 1,
   "metadata": {
    "ExecuteTime": {
     "end_time": "2020-08-07T00:14:12.383067Z",
     "start_time": "2020-08-07T00:14:11.523873Z"
    }
   },
   "outputs": [],
   "source": [
    "import os\n",
    "import sys\n",
    "\n",
    "sys.path.append(os.path.abspath(\"../\"))\n",
    "\n",
    "import matplotlib\n",
    "from matplotlib import cm\n",
    "import matplotlib.colors\n",
    "import matplotlib.pyplot as plt\n",
    "import numpy as np\n",
    "import sympy as sym\n",
    "import trical\n",
    "import trical.misc.constants as cst\n",
    "from trical.misc.polynomial import multivariate_polyfit"
   ]
  },
  {
   "cell_type": "code",
   "execution_count": 2,
   "metadata": {
    "ExecuteTime": {
     "end_time": "2020-08-07T00:14:12.655128Z",
     "start_time": "2020-08-07T00:14:12.384066Z"
    }
   },
   "outputs": [],
   "source": [
    "matplotlib.rcParams[\"figure.figsize\"] = (12, 8)\n",
    "matplotlib.rcParams[\"font.family\"] = \"serif\"\n",
    "matplotlib.rcParams[\"font.size\"] = 20\n",
    "matplotlib.rcParams[\"text.usetex\"] = True\n",
    "\n",
    "sym.init_printing()"
   ]
  },
  {
   "cell_type": "markdown",
   "metadata": {},
   "source": [
    "# TrICal Classes"
   ]
  },
  {
   "cell_type": "markdown",
   "metadata": {},
   "source": [
    "## Potential Class\n",
    "The potential class represents a potential applied to the trapped ion system. <br />\n",
    "Requirements of the potential class are functions corresponding to:\n",
    "* Function for the potential, phi $(U)$\n",
    "* Function for creating first derivatives of the potential, dphi $\\left(\\frac{\\partial U}{\\partial a_i}\\right)$\n",
    "* Function for creating second derivatives of the potential, d2phi $\\left(\\frac{\\partial^2 U}{\\partial a_i \\partial b_j}\\right)$ <br />\n",
    "\n",
    "where $a,b \\in [x,y,z]$ and $1 \\leq i,j \\leq N$ <br />\n",
    "Optional parameters of Potential class are:\n",
    "* Number of ions, N\n",
    "* Dimension of the system, dim"
   ]
  },
  {
   "cell_type": "code",
   "execution_count": 3,
   "metadata": {
    "ExecuteTime": {
     "end_time": "2020-08-07T00:14:12.671131Z",
     "start_time": "2020-08-07T00:14:12.656128Z"
    }
   },
   "outputs": [
    {
     "name": "stdout",
     "output_type": "stream",
     "text": [
      "Position of ions:\n",
      "[[0 1 2]\n",
      " [3 4 5]\n",
      " [6 7 8]]\n",
      "Potential:\n",
      "204\n",
      "Gradient of the potential:\n",
      "[12.  0.  6. 14.  2.  8. 16.  4. 10.]\n",
      "Hessian of the potential:\n",
      "[[2. 0. 0. 0. 0. 0. 0. 0. 0.]\n",
      " [0. 2. 0. 0. 0. 0. 0. 0. 0.]\n",
      " [0. 0. 2. 0. 0. 0. 0. 0. 0.]\n",
      " [0. 0. 0. 2. 0. 0. 0. 0. 0.]\n",
      " [0. 0. 0. 0. 2. 0. 0. 0. 0.]\n",
      " [0. 0. 0. 0. 0. 2. 0. 0. 0.]\n",
      " [0. 0. 0. 0. 0. 0. 2. 0. 0.]\n",
      " [0. 0. 0. 0. 0. 0. 0. 2. 0.]\n",
      " [0. 0. 0. 0. 0. 0. 0. 0. 2.]]\n"
     ]
    }
   ],
   "source": [
    "N = 3  # Number of ions\n",
    "dim = 3  # Dimension of system\n",
    "\n",
    "# Function representing potential\n",
    "def phi(x):\n",
    "    x = np.array(x)\n",
    "    return (x ** 2).sum()\n",
    "\n",
    "\n",
    "# Function creating first derivatives of the potential\n",
    "def dphi(var):\n",
    "    a = {\"x\": 0, \"y\": 1, \"z\": 2}[var[0]]  # Direction index\n",
    "    i = int(var[1:] if type(var) == str else var[1:][0]) - 1  # Ion index\n",
    "\n",
    "    # First derivative of the potential wrt to the variable a_i\n",
    "    def dphi_dai(x):\n",
    "        return 2 * x[i, a]\n",
    "\n",
    "    return dphi_dai\n",
    "\n",
    "\n",
    "# Function creating second derivatives of the potential\n",
    "def d2phi(var1, var2):\n",
    "    a = {\"x\": 0, \"y\": 1, \"z\": 2}[var1[0]]  # Direction index 1\n",
    "    b = {\"x\": 0, \"y\": 1, \"z\": 2}[var2[0]]  # Direction index 2\n",
    "    i = int(var1[1:] if type(var1) == str else var1[1:][0]) - 1  # Ion index 1\n",
    "    j = int(var2[1:] if type(var2) == str else var2[1:][0]) - 1  # Ion index 2\n",
    "\n",
    "    # Second derivative of the potential wrt to the variables a_i and b_j\n",
    "    def d2phi_daidbj(x):\n",
    "        if a == b and i == j:\n",
    "            return 2\n",
    "        else:\n",
    "            return 0\n",
    "\n",
    "    return d2phi_daidbj\n",
    "\n",
    "\n",
    "# Define an instance of the Potential class using the above functions for potential, first derivatives and second\n",
    "# derivatives\n",
    "p = trical.classes.Potential(phi, dphi, d2phi, N=N, dim=dim)\n",
    "\n",
    "# Function representing gradient of the potential\n",
    "p_grad = p.gradient()  # Method creating function for gradient of the potential\n",
    "\n",
    "# Function representing Hessian of the potential\n",
    "p_hess = p.hessian()  # Method creating function for Hessian of the potential\n",
    "\n",
    "# Test position of ions\n",
    "x = np.arange(N * dim).reshape(N, dim)\n",
    "\n",
    "print(\"Position of ions:\")\n",
    "print(x)\n",
    "print(\"Potential:\")\n",
    "print(p(x))\n",
    "print(\"Gradient of the potential:\")\n",
    "print(p_grad(x))\n",
    "print(\"Hessian of the potential:\")\n",
    "print(p_hess(x))"
   ]
  },
  {
   "cell_type": "markdown",
   "metadata": {},
   "source": [
    "\n",
    "### CoulombPotential Subclass\n",
    "\n",
    "The CoulombPotential subclass represents the coulomb interaction between the ions in the trapped ion syste. Corresponds to the following potential,\n",
    "$$\n",
    "U(\\{\\vec{x}_i\\}) = \\sum_{i \\neq j} \\frac{q^2}{4 \\pi \\epsilon_0} \\frac{1}{||\\vec{x}_i - \\vec{x}_j||_2}\n",
    "$$\n",
    "CoulombPotential only requires:\n",
    "* Number of ions, N\n",
    "* Dimension of the system, dim (default = 3)"
   ]
  },
  {
   "cell_type": "code",
   "execution_count": 4,
   "metadata": {
    "ExecuteTime": {
     "end_time": "2020-08-07T00:14:12.675132Z",
     "start_time": "2020-08-07T00:14:12.672132Z"
    }
   },
   "outputs": [],
   "source": [
    "N = 3  # Number of ions\n",
    "dim = 3  # Dimension of system\n",
    "\n",
    "# Define an instance of the CoulombPotential class for N ions in a dim-dimensional system\n",
    "cp = trical.classes.CoulombPotential(N, dim=dim)"
   ]
  },
  {
   "cell_type": "markdown",
   "metadata": {},
   "source": [
    "### GaussianOpticalPotential Subclass\n",
    "The GaussianOpticalPotential subclass represents the potential caused by stark shift from a gaussian beam.\n",
    "$$\n",
    "U(\\{\\vec{x}_i\\}) = \\frac{\\hbar \\Omega^2(\\{\\vec{x}_i\\})}{4 \\Delta} = \\frac{\\hbar \\bar{\\Omega}^2 I(\\{\\vec{x}_i\\})}{4 \\Delta} = \\frac{\\hbar \\bar{\\Omega}^2}{4 \\Delta} \\sum_{i} \\tilde{I}(\\vec{x}_i) \\\\\n",
    "\\tilde{I}(x,y,z) = I_0 \\left(\\frac{w_0}{w(x-x^*)}\\right)^2 \\mathrm{exp} \\left({\\frac{-2[(y-y^*)^2+(z-z^*)^2]}{w^2(x-x^*)}}\\right) \\\\\n",
    "w(x) = w_0 \\sqrt{1+\\left(\\frac{x}{x_R}\\right)^2}, \\quad x_R = \\frac{\\pi w_0^2 n}{\\lambda}, \\quad I_0 = \\frac{2P}{\\pi w_0^2}\\\\\n",
    "$$\n",
    "Where $\\vec{x}^*$ is the focal point, $w_0$ is the beam waist, $n$ is the refractive index, $\\lambda$ is the wavelength of laser, $P$ is the laser power, $\\Delta$ is the detuning from transition, and $\\bar{\\Omega}$ is the Rabi frequency per root intensity. <br />\n",
    "\n",
    "GaussianOpticalPotential requires the above list of arguments and is forced to be 3-dimensional."
   ]
  },
  {
   "cell_type": "code",
   "execution_count": 5,
   "metadata": {
    "ExecuteTime": {
     "end_time": "2020-08-07T00:14:12.680134Z",
     "start_time": "2020-08-07T00:14:12.676133Z"
    }
   },
   "outputs": [],
   "source": [
    "N = 3  # Number of ions\n",
    "mass = cst.convert_m_a(171)  # Mass of an ion\n",
    "\n",
    "# Parameters of the gaussian beam (in SI units)\n",
    "focal_point = np.zeros(3) # Center of system\n",
    "beam_waist = 1e-6\n",
    "refractive_index = 1.0\n",
    "wavelength = 375e-9\n",
    "power = 1e0\n",
    "Omega_bar = 2.23e6\n",
    "transition_wavelength = 369.52e-9\n",
    "\n",
    "# Define an instance of the GaussianOpticalPotential class\n",
    "gop = trical.classes.GaussianOpticalPotential(\n",
    "    focal_point,\n",
    "    power,\n",
    "    wavelength,\n",
    "    beam_waist,\n",
    "    mass=mass,\n",
    "    Omega_bar=Omega_bar,\n",
    "    transition_wavelength=transition_wavelength,\n",
    "    refractive_index=refractive_index,\n",
    ")\n",
    "\n",
    "# Assign a number of ions to the GaussianOpticalPotential class\n",
    "gop.update_params(N=N) # Without N cannot create gradient or Hessian"
   ]
  },
  {
   "cell_type": "markdown",
   "metadata": {},
   "source": [
    "### PolynomialPotential Subclass\n",
    "\n",
    "The PolynomialPotential subclass corresponds with a multivariate polynomial potential:\n",
    "$$\n",
    "U(\\{\\vec{x}_i\\}) = \\sum_{i} \\tilde{U}(\\vec{x}_i) \\\\\n",
    "\\tilde{U}(x,y,z) = \\sum_{ijk} \\alpha_{ijk}  x^iy^jz^k\n",
    "$$"
   ]
  },
  {
   "cell_type": "code",
   "execution_count": 6,
   "metadata": {
    "ExecuteTime": {
     "end_time": "2020-08-07T00:14:12.688135Z",
     "start_time": "2020-08-07T00:14:12.681134Z"
    }
   },
   "outputs": [
    {
     "name": "stdout",
     "output_type": "stream",
     "text": [
      "Trapping strength is the x direction (Mrad/s): 2.5132741228718345\n",
      "Trapping strength is the y direction (Mrad/s): 2.261946710584651\n",
      "Trapping strength is the z direction (Mrad/s): 0.5026548245743669\n",
      "Coefficient of the multivariate polynomial:\n",
      "[[[0.00000000e+00 0.00000000e+00 3.58719448e-14]\n",
      "  [0.00000000e+00 0.00000000e+00 0.00000000e+00]\n",
      "  [7.26406883e-13 0.00000000e+00 0.00000000e+00]]\n",
      "\n",
      " [[0.00000000e+00 0.00000000e+00 0.00000000e+00]\n",
      "  [0.00000000e+00 0.00000000e+00 0.00000000e+00]\n",
      "  [0.00000000e+00 0.00000000e+00 0.00000000e+00]]\n",
      "\n",
      " [[8.96798621e-13 0.00000000e+00 0.00000000e+00]\n",
      "  [0.00000000e+00 0.00000000e+00 0.00000000e+00]\n",
      "  [0.00000000e+00 0.00000000e+00 0.00000000e+00]]]\n"
     ]
    }
   ],
   "source": [
    "N = 3  # Number of ions\n",
    "mass = cst.convert_m_a(171)  # Mass of an ion\n",
    "\n",
    "# Trapping strength (in rad/s)\n",
    "omega_x = 2 * np.pi * 0.4e6  # Direction x\n",
    "omega_y = 2 * np.pi * 0.36e6  # Direction y\n",
    "omega_z = 2 * np.pi * 0.08e6  # Direction z\n",
    "omega = np.array([omega_x, omega_y, omega_z])\n",
    "\n",
    "# Coefficients of the multivariate polynomial consistent with the trapping strength above for a harmonic potential\n",
    "alpha = np.zeros((3, 3, 3))\n",
    "alpha[2, 0, 0] = mass * (omega_x) ** 2 / 2\n",
    "alpha[0, 2, 0] = mass * (omega_y) ** 2 / 2\n",
    "alpha[0, 0, 2] = mass * (omega_z) ** 2 / 2\n",
    "\n",
    "[\n",
    "    print(\n",
    "        \"Trapping strength is the {} direction (Mrad/s): {}\".format(\n",
    "            [\"x\", \"y\", \"z\"][i], omega[i] / 1e6\n",
    "        )\n",
    "    )\n",
    "    for i in range(3)\n",
    "]\n",
    "print(\"Coefficient of the multivariate polynomial:\")\n",
    "print(alpha)\n",
    "\n",
    "# Define an instance of the PolynomialPotential class\n",
    "pp = trical.classes.PolynomialPotential(alpha, N=N)"
   ]
  },
  {
   "cell_type": "markdown",
   "metadata": {},
   "source": [
    "#### Fitting to a PolynomialPotential\n",
    "We can use a grid of points and the value of the potential at each point to create a PolynomialPotential by fitting it with a polynomial."
   ]
  },
  {
   "cell_type": "code",
   "execution_count": 7,
   "metadata": {
    "ExecuteTime": {
     "end_time": "2020-08-07T00:14:13.900406Z",
     "start_time": "2020-08-07T00:14:12.689135Z"
    }
   },
   "outputs": [
    {
     "name": "stdout",
     "output_type": "stream",
     "text": [
      "Coefficient of the multivariate polynomial fit:\n",
      "[[[0.00000000e+00 0.00000000e+00 3.58719448e-14]\n",
      "  [0.00000000e+00 0.00000000e+00 0.00000000e+00]\n",
      "  [7.26406883e-13 0.00000000e+00 0.00000000e+00]]\n",
      "\n",
      " [[0.00000000e+00 0.00000000e+00 0.00000000e+00]\n",
      "  [0.00000000e+00 0.00000000e+00 0.00000000e+00]\n",
      "  [0.00000000e+00 0.00000000e+00 0.00000000e+00]]\n",
      "\n",
      " [[8.96798621e-13 0.00000000e+00 0.00000000e+00]\n",
      "  [0.00000000e+00 0.00000000e+00 0.00000000e+00]\n",
      "  [0.00000000e+00 0.00000000e+00 0.00000000e+00]]]\n"
     ]
    }
   ],
   "source": [
    "N = 3  # Number of ions\n",
    "\n",
    "# Create grid of points\n",
    "I_x = np.linspace(-2e-4, 2e-4, 81)\n",
    "I_y = np.linspace(-2e-4, 2e-4, 81)\n",
    "I_z = np.linspace(-5e-4, 5e-4, 201)\n",
    "r = np.array(np.meshgrid(I_x, I_y, I_z))\n",
    "r = r.reshape(3, -1).transpose() # Last axis is axis for the direction x,y and z\n",
    "\n",
    "# Function for the potential\n",
    "f = lambda x, y, z: np.polynomial.polynomial.polyval3d(x, y, z, alpha)\n",
    "\n",
    "# Values of potential at grid points\n",
    "U_r = f(*r.transpose())\n",
    "\n",
    "# Parameters of fitting polynomial\n",
    "l = 1e-6 # length scale\n",
    "deg = (2, 2, 2) # degree of polynomial\n",
    "\n",
    "# Fitting polynomial using the values and grid points\n",
    "alpha_fit = multivariate_polyfit(r, U_r, deg)\n",
    "\n",
    "print(\"Coefficient of the multivariate polynomial fit:\")\n",
    "print(alpha)\n",
    "\n",
    "# Define an instance of the PolynomialPotential class for the coeffiecients obtained from the multivariate polynomial fit\n",
    "pfp = trical.classes.PolynomialPotential(alpha_fit, N=N)"
   ]
  },
  {
   "cell_type": "markdown",
   "metadata": {},
   "source": [
    "### SymbolicPotential Subclass\n",
    "The SymbolicPotential class uses a symbolic expression, defined using sympy, for the potential. This is intended to be useful when you have an analytical expression for your trapping potential. Note, all ions are assumed to have the same potential, i.e.\n",
    "$$\n",
    "U(\\{\\vec{x}_i\\}) = \\sum_{i} \\tilde{U}(\\vec{x}_i)\n",
    "$$"
   ]
  },
  {
   "cell_type": "code",
   "execution_count": 8,
   "metadata": {
    "ExecuteTime": {
     "end_time": "2020-08-07T00:14:13.913409Z",
     "start_time": "2020-08-07T00:14:13.902407Z"
    },
    "scrolled": false
   },
   "outputs": [
    {
     "name": "stdout",
     "output_type": "stream",
     "text": [
      "Expression for the potential on an ion:\n",
      "8.96798620563919e-13*x**2 + 7.26406882656774e-13*y**2 + 3.58719448225568e-14*z**2\n"
     ]
    }
   ],
   "source": [
    "N = 3  # Number of ions\n",
    "dim = 3  # Dimension of system\n",
    "\n",
    "# Symbol for the directions\n",
    "x, y, z = sym.symbols(\"x, y ,z\")\n",
    "\n",
    "# Expression for the potential on an ion\n",
    "expr = (\n",
    "    mass * (omega_x) ** 2 / 2 * x ** 2\n",
    "    + mass * (omega_y) ** 2 / 2 * y ** 2\n",
    "    + mass * (omega_z) ** 2 / 2 * z ** 2\n",
    ")\n",
    "\n",
    "print(\"Expression for the potential on an ion:\")\n",
    "print(expr)\n",
    "\n",
    "# Define an instance of the SymbolicPotential class for the expression above\n",
    "sp = trical.classes.SymbolicPotential(expr, N=N, dim=dim)"
   ]
  },
  {
   "cell_type": "markdown",
   "metadata": {},
   "source": [
    "#### SymbolicOpticalPotential\n",
    "The SymbolicOpticalPotential is a special case of the SymbolicPotential that corresponds to an optical potential. Instead of specifying the full expression of the potential, only the expression for the intensity of the light, $\\tilde{I}(\\vec{x})$, the detuning, $\\Delta$ and the Rabi frequency per root intensity, $\\bar{\\Omega}$, is needed,\n",
    "$$\n",
    "U(\\{\\vec{x}_i\\}) = \\frac{\\hbar \\Omega^2(\\{\\vec{x}_i\\})}{4 \\Delta} = \\frac{\\hbar \\bar{\\Omega}^2 I(\\{\\vec{x}_i\\})}{4 \\Delta} = \\frac{\\hbar \\bar{\\Omega}^2}{4 \\Delta} \\sum_{i} \\tilde{I}(\\vec{x}_i)\n",
    "$$\n",
    "Note, this potential is assumed to be 3 dimensional."
   ]
  },
  {
   "cell_type": "code",
   "execution_count": 9,
   "metadata": {
    "ExecuteTime": {
     "end_time": "2020-08-07T00:14:13.955419Z",
     "start_time": "2020-08-07T00:14:13.915410Z"
    }
   },
   "outputs": [],
   "source": [
    "# Parameters for a Gaussian beam\n",
    "focal_point = np.zeros(3)\n",
    "beam_waist = 1e-6\n",
    "refractive_index = 1.0\n",
    "wavelength = 375e-9\n",
    "power = 1e0\n",
    "Omega_bar = 2.23e6\n",
    "transition_wavelength = 369.52e-9\n",
    "\n",
    "# Symbol for the directions\n",
    "x, y, z = sym.symbols(\"x, y ,z\")\n",
    "\n",
    "# Defining intensity expression for the Gaussian beam with the above parameters\n",
    "delta_x, delta_y, delta_z = np.array([x, y, z]) - focal_point\n",
    "x_R = np.pi * beam_waist ** 2 * refractive_index / wavelength\n",
    "w = beam_waist * sym.sqrt(1 + (delta_x / x_R) ** 2)\n",
    "intensity_expr = (\n",
    "    2\n",
    "    * power\n",
    "    / (np.pi * beam_waist ** 2)\n",
    "    * (beam_waist / w) ** 2\n",
    "    * sym.exp(-2 * (delta_y ** 2 + delta_z ** 2) / w ** 2)\n",
    ")\n",
    "\n",
    "# Define an instance of the SymbolicOpticalPotential class for the Gaussian beam defined above\n",
    "sop = trical.classes.SymbolicOpticalPotential(\n",
    "    intensity_expr,\n",
    "    wavelength,\n",
    "    Omega_bar=Omega_bar,\n",
    "    transition_wavelength=transition_wavelength,\n",
    ")\n",
    "\n",
    "# Assign a number of ions to the SymbolicOpticalPotential class\n",
    "sop.update_params(N=N)  # Without N cannot create gradient or Hessian"
   ]
  },
  {
   "cell_type": "markdown",
   "metadata": {},
   "source": [
    "### AdvancedSymbolicPotential Subclass\n",
    "The AdvancedSymbolicPotential class represents a potential that can be ion dependent symbolically, i.e.\n",
    "$$\n",
    "U(\\{\\vec{x}_i\\}) = \\sum_{i} \\tilde{U}_i(\\vec{x}_i)\n",
    "$$\n",
    "This means this class works for any arbitrary potential."
   ]
  },
  {
   "cell_type": "code",
   "execution_count": 10,
   "metadata": {
    "ExecuteTime": {
     "end_time": "2020-08-07T00:14:13.977424Z",
     "start_time": "2020-08-07T00:14:13.956419Z"
    }
   },
   "outputs": [],
   "source": [
    "N = 3  # Number of ions\n",
    "dim = 3  # Dimension of system\n",
    "\n",
    "# Symbols for the coordinates of the different ions\n",
    "x = np.array(sym.symbols(\" \".join([\"x{}\".format(i) for i in range(N)])))\n",
    "y = np.array(sym.symbols(\" \".join([\"y{}\".format(i) for i in range(N)])))\n",
    "z = np.array(sym.symbols(\" \".join([\"z{}\".format(i) for i in range(N)])))\n",
    "\n",
    "# Symbolic expression for the potential\n",
    "expr = (\n",
    "    (mass * omega_x ** 2 * x ** 2 / 2).sum()\n",
    "    + (mass * omega_y ** 2 * y ** 2 / 2).sum()\n",
    "    + (mass * omega_z ** 2 * z ** 2 / 2).sum()\n",
    ")\n",
    "\n",
    "# Define an instance of the AdvancedSymbolicPotential class for a harmonic potential\n",
    "asp = trical.classes.AdvancedSymbolicPotential(N, expr, dim=dim)"
   ]
  },
  {
   "cell_type": "markdown",
   "metadata": {},
   "source": [
    "### AutoDiffPotential Subclass\n",
    "The AutoDiffPotential subclass uses a function representing the potential (defined using numpy subpackage of autograd package) and uses automatic differentiation to take the derivatives. This class works for any arbitrary potential"
   ]
  },
  {
   "cell_type": "code",
   "execution_count": 11,
   "metadata": {
    "ExecuteTime": {
     "end_time": "2020-08-07T00:14:13.984426Z",
     "start_time": "2020-08-07T00:14:13.978424Z"
    }
   },
   "outputs": [],
   "source": [
    "import autograd as ag\n",
    "from autograd import numpy as agnp\n",
    "\n",
    "N = 3  # Number of ions\n",
    "dim = 3  # Dimension of system\n",
    "\n",
    "# function for the potential defined using autograd.numpy\n",
    "expr = lambda x: agnp.sum(\n",
    "    mass * (omega_x) ** 2 / 2 * x[:, 0] ** 2\n",
    "    + mass * (omega_y) ** 2 / 2 * x[:, 1] ** 2\n",
    "    + mass * (omega_z) ** 2 / 2 * x[:, 2] ** 2\n",
    ")\n",
    "\n",
    "# Define an instance of the AutoDiffPotential class for a harmonic potential\n",
    "adp = trical.classes.AutoDiffPotential(expr,N=N,dim=dim)"
   ]
  },
  {
   "cell_type": "markdown",
   "metadata": {},
   "source": [
    "#### OpticalPotential Subclass\n",
    "OpticalPotential is similar to SymbolicOpticalPotential, except it uses automatic differentiation instead of symbolic differentiation.\n",
    "$$\n",
    "U(\\{\\vec{x}_i\\}) = \\frac{\\hbar \\Omega^2(\\{\\vec{x}_i\\})}{4 \\Delta} = \\frac{\\hbar \\bar{\\Omega}^2 I(\\{\\vec{x}_i\\})}{4 \\Delta} = \\frac{\\hbar \\bar{\\Omega}^2}{4 \\Delta} \\sum_{i} \\tilde{I}(\\vec{x}_i)\n",
    "$$"
   ]
  },
  {
   "cell_type": "code",
   "execution_count": 12,
   "metadata": {
    "ExecuteTime": {
     "end_time": "2020-08-07T00:14:13.993427Z",
     "start_time": "2020-08-07T00:14:13.985426Z"
    }
   },
   "outputs": [],
   "source": [
    "N = 3  # Number of ions\n",
    "\n",
    "# Parameters for a Gaussian beam\n",
    "focal_point = np.zeros(3)\n",
    "beam_waist = 1e-6\n",
    "refractive_index = 1.0\n",
    "wavelength = 375e-9\n",
    "power = 1e0\n",
    "Omega_bar = 2.23e6\n",
    "transition_wavelength = 369.52e-9\n",
    "\n",
    "# Function for the intensity for the Gaussian beam with the above parameters defined using autograd.numpy\n",
    "def intensity_expr(x):\n",
    "    delta_x = x - focal_point\n",
    "    x_R = np.pi * beam_waist ** 2 * refractive_index / wavelength\n",
    "    w = beam_waist * agnp.sqrt(1 + (delta_x[:, 0] / x_R) ** 2)\n",
    "    return (\n",
    "        2\n",
    "        * power\n",
    "        / (np.pi * beam_waist ** 2)\n",
    "        * (beam_waist / w) ** 2\n",
    "        * agnp.exp(-2 * (delta_x[:, 1] ** 2 + delta_x[:, 2] ** 2) / w ** 2)\n",
    "    ).sum()\n",
    "\n",
    "\n",
    "# Define an instance of the OpticalPotential class for the Gaussian beam defined above\n",
    "op = trical.classes.OpticalPotential(\n",
    "    intensity_expr,\n",
    "    wavelength,\n",
    "    Omega_bar=Omega_bar,\n",
    "    transition_wavelength=transition_wavelength,\n",
    ")\n",
    "\n",
    "# Assign a number of ions to the SymbolicOpticalPotential class\n",
    "op.update_params(N=N)  # Without N cannot create gradient or Hessian"
   ]
  },
  {
   "cell_type": "markdown",
   "metadata": {},
   "source": [
    "## TrappedIons Class\n",
    "\n",
    "This class calculates the equilibrium positions, normal modes, and frequencies of a given number of ions and trapping potential. The method of inputing the potential should not have any bearing on the equilibrum position. Using the equilibrium_position funciton we can see that all three input methods give the same positions in z.\n",
    "\n",
    "### Single Species"
   ]
  },
  {
   "cell_type": "code",
   "execution_count": 13,
   "metadata": {
    "ExecuteTime": {
     "end_time": "2020-08-07T00:14:14.042439Z",
     "start_time": "2020-08-07T00:14:13.994428Z"
    }
   },
   "outputs": [
    {
     "name": "stdout",
     "output_type": "stream",
     "text": [
      "Equilibrium Position (micron):[-15.89995   0.       15.89995]\n",
      "Eigenfrequencies (Mrad/s):[2.51327 2.4625  2.38959 2.26195 2.20539 2.12368 1.21055 0.87062 0.50265]\n",
      "Principle Axis Eigenvectors:\n",
      "[[ 0.57735 -0.70711  0.40825 -0.      -0.      -0.       0.       0.\n",
      "  -0.     ]\n",
      " [ 0.57735 -0.      -0.8165   0.       0.       0.       0.       0.\n",
      "  -0.     ]\n",
      " [ 0.57735  0.70711  0.40825 -0.      -0.      -0.      -0.      -0.\n",
      "  -0.     ]\n",
      " [ 0.       0.       0.       0.57735  0.70711  0.40825 -0.       0.\n",
      "  -0.     ]\n",
      " [-0.       0.       0.       0.57735  0.      -0.8165   0.      -0.\n",
      "  -0.     ]\n",
      " [-0.      -0.      -0.       0.57735 -0.70711  0.40825 -0.      -0.\n",
      "  -0.     ]\n",
      " [ 0.      -0.      -0.      -0.       0.       0.       0.40825 -0.70711\n",
      "   0.57735]\n",
      " [ 0.      -0.       0.       0.       0.       0.      -0.8165  -0.\n",
      "   0.57735]\n",
      " [ 0.       0.       0.       0.      -0.      -0.       0.40825  0.70711\n",
      "   0.57735]]\n"
     ]
    }
   ],
   "source": [
    "N = 3  # Number of ions\n",
    "mass = cst.convert_m_a(171)  # Mass of an ion\n",
    "\n",
    "# Harmonic trapped ion system \n",
    "ti = trical.classes.TrappedIons(N, pp, m=mass)\n",
    "\n",
    "# Calculate equilibrium position\n",
    "ti.equilibrium_position()\n",
    "\n",
    "# Calculate normal modes\n",
    "ti.normal_modes() # If equilibrium position does not exist it will run equilibrium_position method\n",
    "\n",
    "# Calculate normal modes in principle axis if it exist\n",
    "ti.principle_axis() # If normal modes does not exist it will run normal_modes method\n",
    "\n",
    "print(\n",
    "    \"{}:{}\".format(\"Equilibrium Position (micron)\", np.round(ti.x_ep[:, 2] * 1e6, 5))\n",
    ")\n",
    "print(\"{}:{}\".format(\"Eigenfrequencies (Mrad/s)\", np.round(ti.w_pa / 1e6, 5)))\n",
    "print(\"{}:\".format(\"Principle Axis Eigenvectors\"))\n",
    "print(np.round(ti.b_pa, 5))"
   ]
  },
  {
   "cell_type": "code",
   "execution_count": 14,
   "metadata": {
    "ExecuteTime": {
     "end_time": "2020-08-07T00:14:36.621513Z",
     "start_time": "2020-08-07T00:14:14.043439Z"
    },
    "scrolled": false
   },
   "outputs": [
    {
     "name": "stdout",
     "output_type": "stream",
     "text": [
      "======================================= PolynomialPotential ========================================\n",
      "Execution time for principle axis method:\n",
      "8.85 ms ± 95.7 µs per loop (mean ± std. dev. of 7 runs, 100 loops each)\n",
      "Equilibrium Position (micron):[-15.89995   0.       15.89995]\n",
      "Eigenfrequencies (Mrad/s):[2.51327 2.4625  2.38959 2.26195 2.20539 2.12368 1.21055 0.87062 0.50265]\n",
      "Principle Axis Eigenvectors:\n",
      "[[ 0.57735 -0.70711  0.40825 -0.      -0.      -0.       0.       0.\n",
      "  -0.     ]\n",
      " [ 0.57735 -0.      -0.8165   0.       0.       0.       0.       0.\n",
      "  -0.     ]\n",
      " [ 0.57735  0.70711  0.40825 -0.      -0.      -0.      -0.      -0.\n",
      "  -0.     ]\n",
      " [ 0.       0.       0.       0.57735  0.70711  0.40825 -0.       0.\n",
      "  -0.     ]\n",
      " [-0.       0.       0.       0.57735  0.      -0.8165   0.      -0.\n",
      "  -0.     ]\n",
      " [-0.      -0.      -0.       0.57735 -0.70711  0.40825 -0.      -0.\n",
      "  -0.     ]\n",
      " [ 0.      -0.      -0.      -0.       0.       0.       0.40825 -0.70711\n",
      "   0.57735]\n",
      " [ 0.      -0.       0.       0.       0.       0.      -0.8165  -0.\n",
      "   0.57735]\n",
      " [ 0.       0.       0.       0.      -0.      -0.       0.40825  0.70711\n",
      "   0.57735]]\n",
      "==================================== Fitted PolynomialPotential ====================================\n",
      "Execution time for principle axis method:\n",
      "8.85 ms ± 65.3 µs per loop (mean ± std. dev. of 7 runs, 100 loops each)\n",
      "Equilibrium Position (micron):[-15.89995   0.       15.89995]\n",
      "Eigenfrequencies (Mrad/s):[2.51327 2.4625  2.38959 2.26195 2.20539 2.12368 1.21055 0.87062 0.50265]\n",
      "Principle Axis Eigenvectors:\n",
      "[[ 0.57735 -0.70711  0.40825 -0.       0.      -0.      -0.       0.\n",
      "  -0.     ]\n",
      " [ 0.57735 -0.      -0.8165   0.      -0.       0.       0.      -0.\n",
      "  -0.     ]\n",
      " [ 0.57735  0.70711  0.40825  0.       0.       0.       0.       0.\n",
      "  -0.     ]\n",
      " [ 0.      -0.       0.       0.57735 -0.70711  0.40825  0.       0.\n",
      "  -0.     ]\n",
      " [ 0.      -0.       0.       0.57735 -0.      -0.8165   0.      -0.\n",
      "  -0.     ]\n",
      " [-0.      -0.      -0.       0.57735  0.70711  0.40825  0.       0.\n",
      "   0.     ]\n",
      " [ 0.      -0.       0.       0.       0.       0.       0.40825 -0.70711\n",
      "   0.57735]\n",
      " [ 0.       0.       0.      -0.      -0.       0.      -0.8165  -0.\n",
      "   0.57735]\n",
      " [ 0.      -0.      -0.      -0.      -0.      -0.       0.40825  0.70711\n",
      "   0.57735]]\n",
      "======================================== SymbolicPotential =========================================\n",
      "Execution time for principle axis method:\n",
      "21.9 ms ± 583 µs per loop (mean ± std. dev. of 7 runs, 10 loops each)\n",
      "Equilibrium Position (micron):[-15.89995   0.       15.89995]\n",
      "Eigenfrequencies (Mrad/s):[2.51327 2.4625  2.38959 2.26195 2.20539 2.12368 1.21055 0.87062 0.50265]\n",
      "Principle Axis Eigenvectors:\n",
      "[[ 0.57735 -0.70711  0.40825  0.      -0.       0.       0.       0.\n",
      "  -0.     ]\n",
      " [ 0.57735 -0.      -0.8165  -0.       0.      -0.       0.       0.\n",
      "  -0.     ]\n",
      " [ 0.57735  0.70711  0.40825  0.       0.       0.      -0.      -0.\n",
      "  -0.     ]\n",
      " [-0.      -0.      -0.       0.57735 -0.70711  0.40825  0.      -0.\n",
      "  -0.     ]\n",
      " [-0.      -0.      -0.       0.57735 -0.      -0.8165  -0.      -0.\n",
      "   0.     ]\n",
      " [-0.      -0.      -0.       0.57735  0.70711  0.40825  0.       0.\n",
      "   0.     ]\n",
      " [ 0.      -0.      -0.       0.      -0.       0.       0.40825 -0.70711\n",
      "   0.57735]\n",
      " [ 0.      -0.       0.      -0.       0.      -0.      -0.8165  -0.\n",
      "   0.57735]\n",
      " [ 0.       0.       0.       0.       0.      -0.       0.40825  0.70711\n",
      "   0.57735]]\n",
      "==================================== AdvancedSymbolicPotential =====================================\n",
      "Execution time for principle axis method:\n",
      "144 ms ± 4.15 ms per loop (mean ± std. dev. of 7 runs, 1 loop each)\n",
      "Equilibrium Position (micron):[-15.89995   0.       15.89995]\n",
      "Eigenfrequencies (Mrad/s):[2.51327 2.4625  2.38959 2.26195 2.20539 2.12368 1.21055 0.87062 0.50265]\n",
      "Principle Axis Eigenvectors:\n",
      "[[ 0.57735 -0.70711  0.40825  0.      -0.       0.       0.       0.\n",
      "  -0.     ]\n",
      " [ 0.57735 -0.      -0.8165  -0.       0.      -0.       0.       0.\n",
      "  -0.     ]\n",
      " [ 0.57735  0.70711  0.40825  0.       0.       0.      -0.      -0.\n",
      "  -0.     ]\n",
      " [-0.      -0.      -0.       0.57735 -0.70711  0.40825  0.      -0.\n",
      "  -0.     ]\n",
      " [-0.      -0.      -0.       0.57735 -0.      -0.8165  -0.      -0.\n",
      "   0.     ]\n",
      " [-0.      -0.      -0.       0.57735  0.70711  0.40825  0.       0.\n",
      "   0.     ]\n",
      " [ 0.      -0.      -0.       0.      -0.       0.       0.40825 -0.70711\n",
      "   0.57735]\n",
      " [ 0.      -0.       0.      -0.       0.      -0.      -0.8165  -0.\n",
      "   0.57735]\n",
      " [ 0.       0.       0.       0.       0.      -0.       0.40825  0.70711\n",
      "   0.57735]]\n",
      "======================================== AutoDiffPotential =========================================\n",
      "Execution time for principle axis method:\n",
      "6.19 ms ± 96.5 µs per loop (mean ± std. dev. of 7 runs, 100 loops each)\n",
      "Equilibrium Position (micron):[-15.89995   0.       15.89995]\n",
      "Eigenfrequencies (Mrad/s):[2.51327 2.4625  2.38959 2.26195 2.20539 2.12368 1.21055 0.87062 0.50265]\n",
      "Principle Axis Eigenvectors:\n",
      "[[ 0.57735 -0.70711  0.40825 -0.      -0.      -0.       0.       0.\n",
      "  -0.     ]\n",
      " [ 0.57735 -0.      -0.8165   0.       0.       0.       0.       0.\n",
      "  -0.     ]\n",
      " [ 0.57735  0.70711  0.40825 -0.      -0.      -0.      -0.      -0.\n",
      "  -0.     ]\n",
      " [ 0.       0.       0.       0.57735  0.70711  0.40825  0.      -0.\n",
      "   0.     ]\n",
      " [ 0.       0.       0.       0.57735  0.      -0.8165  -0.      -0.\n",
      "   0.     ]\n",
      " [-0.      -0.       0.       0.57735 -0.70711  0.40825  0.       0.\n",
      "   0.     ]\n",
      " [ 0.      -0.      -0.      -0.      -0.      -0.       0.40825 -0.70711\n",
      "   0.57735]\n",
      " [ 0.      -0.       0.       0.       0.      -0.      -0.8165  -0.\n",
      "   0.57735]\n",
      " [ 0.       0.       0.       0.      -0.       0.       0.40825  0.70711\n",
      "   0.57735]]\n"
     ]
    }
   ],
   "source": [
    "N = 3  # Number of ions\n",
    "mass = cst.convert_m_a(171)  # Mass of an ion\n",
    "\n",
    "# Harmonic trapped ion system defined using different methods\n",
    "ti_pp = trical.classes.TrappedIons(N, pp, m=mass) # PolynomialPotential\n",
    "ti_pfp = trical.classes.TrappedIons(N, pfp, m=mass) # PolynomialPotential by fitting coeffiencients\n",
    "ti_sp = trical.classes.TrappedIons(N, sp, m=mass) # SymbolicPotential\n",
    "ti_asp = trical.classes.TrappedIons(N, asp, m=mass) # AdvancedSymbolicPotential\n",
    "ti_adp = trical.classes.TrappedIons(N, adp, m=mass) # AutoDiffPotential\n",
    "\n",
    "print(\"{:=^100}\".format(\" PolynomialPotential \"))\n",
    "print(\"{}:\".format(\"Execution time for principle axis method\"))\n",
    "%timeit ti_pp.principle_axis()\n",
    "print(\"{}:{}\".format(\"Equilibrium Position (micron)\", np.round(ti_pp.x_ep[:, 2] * 1e6, 5)))\n",
    "print(\"{}:{}\".format(\"Eigenfrequencies (Mrad/s)\", np.round(ti_pp.w_pa / 1e6, 5)))\n",
    "print(\"{}:\".format(\"Principle Axis Eigenvectors\"))\n",
    "print(np.round(ti_pp.b_pa, 5))\n",
    "\n",
    "print(\"{:=^100}\".format(\" Fitted PolynomialPotential \"))\n",
    "print(\"{}:\".format(\"Execution time for principle axis method\"))\n",
    "%timeit ti_pfp.principle_axis()\n",
    "print(\n",
    "    \"{}:{}\".format(\n",
    "        \"Equilibrium Position (micron)\", np.round(ti_pfp.x_ep[:, 2] * 1e6, 5)\n",
    "    )\n",
    ")\n",
    "print(\"{}:{}\".format(\"Eigenfrequencies (Mrad/s)\", np.round(ti_pfp.w_pa / 1e6, 5)))\n",
    "print(\"{}:\".format(\"Principle Axis Eigenvectors\"))\n",
    "print(np.round(ti_pfp.b_pa, 5))\n",
    "\n",
    "print(\"{:=^100}\".format(\" SymbolicPotential \"))\n",
    "print(\"{}:\".format(\"Execution time for principle axis method\"))\n",
    "%timeit ti_sp.principle_axis()\n",
    "print(\"{}:{}\".format(\"Equilibrium Position (micron)\", np.round(ti_sp.x_ep[:, 2] * 1e6, 5)))\n",
    "print(\"{}:{}\".format(\"Eigenfrequencies (Mrad/s)\", np.round(ti_sp.w_pa / 1e6, 5)))\n",
    "print(\"{}:\".format(\"Principle Axis Eigenvectors\"))\n",
    "print(np.round(ti_sp.b_pa, 5))\n",
    "\n",
    "print(\"{:=^100}\".format(\" AdvancedSymbolicPotential \"))\n",
    "print(\"{}:\".format(\"Execution time for principle axis method\"))\n",
    "%timeit ti_asp.principle_axis()\n",
    "print(\n",
    "    \"{}:{}\".format(\n",
    "        \"Equilibrium Position (micron)\", np.round(ti_asp.x_ep[:, 2] * 1e6, 5)\n",
    "    )\n",
    ")\n",
    "print(\"{}:{}\".format(\"Eigenfrequencies (Mrad/s)\", np.round(ti_asp.w_pa / 1e6, 5)))\n",
    "print(\"{}:\".format(\"Principle Axis Eigenvectors\"))\n",
    "print(np.round(ti_asp.b_pa, 5))\n",
    "\n",
    "print(\"{:=^100}\".format(\" AutoDiffPotential \"))\n",
    "print(\"{}:\".format(\"Execution time for principle axis method\"))\n",
    "%timeit ti_adp.principle_axis()\n",
    "print(\"{}:{}\".format(\"Equilibrium Position (micron)\", np.round(ti_adp.x_ep[:, 2] * 1e6, 5)))\n",
    "print(\"{}:{}\".format(\"Eigenfrequencies (Mrad/s)\", np.round(ti_adp.w_pa / 1e6, 5)))\n",
    "print(\"{}:\".format(\"Principle Axis Eigenvectors\"))\n",
    "print(np.round(ti_adp.b_pa, 5))"
   ]
  },
  {
   "cell_type": "code",
   "execution_count": 15,
   "metadata": {
    "ExecuteTime": {
     "end_time": "2020-08-07T00:14:59.452124Z",
     "start_time": "2020-08-07T00:14:36.622513Z"
    }
   },
   "outputs": [
    {
     "name": "stdout",
     "output_type": "stream",
     "text": [
      "===================================== GaussianOpticalPotential =====================================\n",
      "Execution time for principle axis method:\n",
      "7.47 ms ± 105 µs per loop (mean ± std. dev. of 7 runs, 100 loops each)\n",
      "Equilibrium Position (micron):[-15.89995   0.       15.89995]\n",
      "Eigenfrequencies (Mrad/s):[2.52169 2.4625  2.40421 4.52781 2.21563 2.20539 4.10671 0.87062 0.79797]\n",
      "Principle Axis Eigenvectors:\n",
      "[[ 0.53735 -0.70711  0.45963 -0.       0.       0.      -0.      -0.\n",
      "  -0.     ]\n",
      " [ 0.65001  0.      -0.75993 -0.      -0.       0.      -0.       0.\n",
      "  -0.     ]\n",
      " [ 0.53735  0.70711  0.45963 -0.       0.      -0.      -0.       0.\n",
      "  -0.     ]\n",
      " [-0.       0.      -0.       0.01297  0.70699  0.70711  0.      -0.\n",
      "  -0.     ]\n",
      " [ 0.       0.       0.       0.99983 -0.01834  0.       0.       0.\n",
      "   0.     ]\n",
      " [-0.      -0.      -0.       0.01297  0.70699 -0.70711 -0.      -0.\n",
      "   0.     ]\n",
      " [ 0.      -0.       0.      -0.       0.       0.       0.02493  0.70711\n",
      "   0.70667]\n",
      " [-0.      -0.      -0.      -0.       0.       0.      -0.99938 -0.\n",
      "   0.03525]\n",
      " [ 0.       0.       0.       0.      -0.       0.       0.02493 -0.70711\n",
      "   0.70667]]\n",
      "===================================== SymbolicOpticalPotential =====================================\n",
      "Execution time for principle axis method:\n",
      "528 ms ± 9.47 ms per loop (mean ± std. dev. of 7 runs, 1 loop each)\n",
      "Equilibrium Position (micron):[-15.89995  -0.       15.89995]\n",
      "Eigenfrequencies (Mrad/s):[2.52169 2.4625  2.40421 4.52781 2.21563 2.20539 4.10671 0.87062 0.79797]\n",
      "Principle Axis Eigenvectors:\n",
      "[[ 0.53735 -0.70711  0.45963 -0.       0.      -0.      -0.      -0.\n",
      "   0.     ]\n",
      " [ 0.65001  0.      -0.75993 -0.      -0.       0.      -0.       0.\n",
      "  -0.     ]\n",
      " [ 0.53735  0.70711  0.45963 -0.       0.       0.       0.      -0.\n",
      "  -0.     ]\n",
      " [-0.       0.      -0.       0.01297  0.70699 -0.70711 -0.      -0.\n",
      "   0.     ]\n",
      " [ 0.      -0.       0.       0.99983 -0.01834 -0.      -0.       0.\n",
      "  -0.     ]\n",
      " [-0.      -0.      -0.       0.01297  0.70699  0.70711  0.      -0.\n",
      "  -0.     ]\n",
      " [ 0.       0.      -0.       0.      -0.       0.       0.02493 -0.70711\n",
      "   0.70667]\n",
      " [-0.       0.      -0.       0.      -0.       0.      -0.99938  0.\n",
      "   0.03525]\n",
      " [-0.       0.       0.      -0.       0.       0.       0.02493  0.70711\n",
      "   0.70667]]\n",
      "========================================= OpticalPotential =========================================\n",
      "Execution time for principle axis method:\n",
      "15 ms ± 143 µs per loop (mean ± std. dev. of 7 runs, 100 loops each)\n",
      "Equilibrium Position (micron):[-15.89995  -0.       15.89995]\n",
      "Eigenfrequencies (Mrad/s):[2.52169 2.4625  2.40421 4.52781 2.21563 2.20539 4.10671 0.87062 0.79797]\n",
      "Principle Axis Eigenvectors:\n",
      "[[ 0.53735 -0.70711  0.45963  0.       0.       0.      -0.       0.\n",
      "   0.     ]\n",
      " [ 0.65001  0.      -0.75993  0.       0.       0.      -0.      -0.\n",
      "  -0.     ]\n",
      " [ 0.53735  0.70711  0.45963  0.      -0.      -0.       0.      -0.\n",
      "   0.     ]\n",
      " [ 0.       0.       0.       0.01297  0.70699  0.70711  0.      -0.\n",
      "  -0.     ]\n",
      " [-0.      -0.      -0.       0.99983 -0.01834  0.       0.       0.\n",
      "   0.     ]\n",
      " [-0.      -0.       0.       0.01297  0.70699 -0.70711 -0.       0.\n",
      "  -0.     ]\n",
      " [-0.       0.      -0.      -0.       0.       0.       0.02493  0.70711\n",
      "   0.70667]\n",
      " [-0.       0.      -0.      -0.       0.       0.      -0.99938 -0.\n",
      "   0.03525]\n",
      " [-0.      -0.      -0.       0.      -0.       0.       0.02493 -0.70711\n",
      "   0.70667]]\n"
     ]
    }
   ],
   "source": [
    "N = 3  # Number of ions\n",
    "dim = 3  # Dimension of system\n",
    "mass = cst.convert_m_a(171)  # Mass of an ion\n",
    "\n",
    "# Harmonic trapped ion system with optical tweezers on the center ion defined using different methods\n",
    "ti_gop = trical.classes.TrappedIons(N, adp, gop, m=mass) # GaussianOpticalPotential\n",
    "ti_sop = trical.classes.TrappedIons(N, adp, sop, m=mass) # SymbolicOpticalPotential\n",
    "ti_op = trical.classes.TrappedIons(N, adp, op, m=mass) # OpticalPotential\n",
    "\n",
    "print(\"{:=^100}\".format(\" GaussianOpticalPotential \"))\n",
    "print(\"{}:\".format(\"Execution time for principle axis method\"))\n",
    "%timeit ti_gop.principle_axis()\n",
    "print(\n",
    "    \"{}:{}\".format(\"Equilibrium Position (micron)\", np.round(ti_gop.x_ep[:, 2] * 1e6, 5))\n",
    ")\n",
    "print(\"{}:{}\".format(\"Eigenfrequencies (Mrad/s)\", np.round(ti_gop.w_pa / 1e6, 5)))\n",
    "print(\"{}:\".format(\"Principle Axis Eigenvectors\"))\n",
    "print(np.round(ti_gop.b_pa, 5))\n",
    "\n",
    "print(\"{:=^100}\".format(\" SymbolicOpticalPotential \"))\n",
    "print(\"{}:\".format(\"Execution time for principle axis method\"))\n",
    "%timeit ti_sop.principle_axis()\n",
    "print(\n",
    "    \"{}:{}\".format(\n",
    "        \"Equilibrium Position (micron)\", np.round(ti_sop.x_ep[:, 2] * 1e6, 5)\n",
    "    )\n",
    ")\n",
    "print(\"{}:{}\".format(\"Eigenfrequencies (Mrad/s)\", np.round(ti_sop.w_pa / 1e6, 5)))\n",
    "print(\"{}:\".format(\"Principle Axis Eigenvectors\"))\n",
    "print(np.round(ti_sop.b_pa, 5))\n",
    "\n",
    "print(\"{:=^100}\".format(\" OpticalPotential \"))\n",
    "print(\"{}:\".format(\"Execution time for principle axis method\"))\n",
    "%timeit ti_op.principle_axis()\n",
    "print(\n",
    "    \"{}:{}\".format(\"Equilibrium Position (micron)\", np.round(ti_op.x_ep[:, 2] * 1e6, 5))\n",
    ")\n",
    "print(\"{}:{}\".format(\"Eigenfrequencies (Mrad/s)\", np.round(ti_op.w_pa / 1e6, 5)))\n",
    "print(\"{}:\".format(\"Principle Axis Eigenvectors\"))\n",
    "print(np.round(ti_op.b_pa, 5))"
   ]
  },
  {
   "cell_type": "markdown",
   "metadata": {},
   "source": [
    "### Multiple Species"
   ]
  },
  {
   "cell_type": "code",
   "execution_count": 16,
   "metadata": {
    "ExecuteTime": {
     "end_time": "2020-08-07T00:14:59.482131Z",
     "start_time": "2020-08-07T00:14:59.453124Z"
    }
   },
   "outputs": [
    {
     "name": "stdout",
     "output_type": "stream",
     "text": [
      "Equilibrium Position (micron):[-15.89995   0.       15.89995]\n",
      "Eigenfrequencies (Mrad/s):[3.03814 2.46616 2.4625  2.71953 2.20759 2.20539 1.30474 0.87062 0.51914]\n",
      "Principle Axis Eigenvectors:\n",
      "[[ 0.0646   0.70258  0.70711  0.      -0.      -0.       0.       0.\n",
      "  -0.     ]\n",
      " [ 0.99582 -0.11295 -0.      -0.      -0.      -0.      -0.      -0.\n",
      "  -0.     ]\n",
      " [ 0.0646   0.70258 -0.70711  0.       0.       0.      -0.       0.\n",
      "  -0.     ]\n",
      " [-0.      -0.       0.       0.08092  0.70001  0.70711  0.      -0.\n",
      "  -0.     ]\n",
      " [-0.      -0.       0.       0.99343 -0.14131 -0.       0.       0.\n",
      "  -0.     ]\n",
      " [-0.      -0.       0.       0.08092  0.70001 -0.70711 -0.       0.\n",
      "  -0.     ]\n",
      " [ 0.      -0.       0.      -0.      -0.       0.       0.33927  0.70711\n",
      "   0.58537]\n",
      " [ 0.       0.       0.      -0.      -0.       0.      -0.87738  0.\n",
      "   0.56097]\n",
      " [ 0.       0.      -0.       0.      -0.       0.       0.33927 -0.70711\n",
      "   0.58537]]\n"
     ]
    }
   ],
   "source": [
    "N = 3  # Number of ions\n",
    "\n",
    "myb = cst.convert_m_a(171)  # mass of ytterbium-171\n",
    "mba = cst.convert_m_a(138)  # mass of barium-138\n",
    "ms = np.array([myb, mba, myb])  # mass array (length must be equal to number of ions)\n",
    "\n",
    "# Expression for ion dependent multispecies harmonic potential\n",
    "def expr(x):\n",
    "    return (\n",
    "        (myb ** 2 * omega_x ** 2 * x[:, 0] ** 2 / (2 * ms)).sum()\n",
    "        + (myb ** 2 * omega_y ** 2 * x[:, 1] ** 2 / (2 * ms)).sum()\n",
    "        + (myb * omega_z ** 2 * x[:, 2] ** 2 / 2).sum()\n",
    "    )\n",
    "\n",
    "\n",
    "# AutoDiffPotential for above defined ion dependent multispecies harmonic potential\n",
    "adp = trical.classes.AutoDiffPotential(expr, N=N, dim=dim)\n",
    "\n",
    "# Multispecies harmonic trapped ion system\n",
    "ti_ms = trical.classes.TrappedIons(N, adp, m=ms)\n",
    "\n",
    "# Calculates equilibrium position, normal modes and normal modes in the principle axis\n",
    "ti_ms.principle_axis()\n",
    "\n",
    "print(\n",
    "    \"{}:{}\".format(\"Equilibrium Position (micron)\", np.round(ti_ms.x_ep[:, 2] * 1e6, 5))\n",
    ")\n",
    "print(\"{}:{}\".format(\"Eigenfrequencies (Mrad/s)\", np.round(ti_ms.w_pa / 1e6, 5)))\n",
    "print(\"{}:\".format(\"Principle Axis Eigenvectors\"))\n",
    "print(np.round(ti_ms.b_pa, 5))"
   ]
  },
  {
   "cell_type": "markdown",
   "metadata": {},
   "source": [
    "## SimulatedSpinLattice Class\n",
    "\n",
    "This class produces the simulated coupling matrix, $J_{ij}$, when an optical field is applied on the trapped ion system. The coupling matrix, $J_{ij}$, depends on the following parameters:\n",
    "* Rabi frequencies, Omega $(\\Omega_{in})$\n",
    "* Raman beatnote detunings, mu $(\\mu_n)$\n",
    "* Trapped ion normal modes, b $(b_{im})$ and omega $(\\omega_{m})$\n",
    "* Direction of beam, direc (\"x\",\"y\" or \"z\")\n",
    "* Wavenumber of the light, k $\\left(||\\vec{k}||\\right)$"
   ]
  },
  {
   "cell_type": "code",
   "execution_count": 17,
   "metadata": {
    "ExecuteTime": {
     "end_time": "2020-08-07T00:15:01.761643Z",
     "start_time": "2020-08-07T00:14:59.483131Z"
    },
    "scrolled": false
   },
   "outputs": [
    {
     "data": {
      "text/plain": [
       "<matplotlib.colorbar.Colorbar at 0x1f6005cba08>"
      ]
     },
     "execution_count": 17,
     "metadata": {},
     "output_type": "execute_result"
    },
    {
     "data": {
      "image/png": "[encoded data removed]",
      "text/plain": [
       "<Figure size 1440x1080 with 4 Axes>"
      ]
     },
     "metadata": {
      "needs_background": "light"
     },
     "output_type": "display_data"
    }
   ],
   "source": [
    "N = 3  # Number of ions\n",
    "\n",
    "# Parameters for the coupling matrix\n",
    "direc = \"x\"\n",
    "wavelength = 355e-9\n",
    "detuning = 2 * np.pi * 1e3\n",
    "# detuning for 3 cases: near COM, near tilt and near zigzag on the right\n",
    "mu = np.array([np.array([ti_adp.w_pa[:N][i] + detuning]) for i in range(N)])\n",
    "omega = np.full((N, 1), 1e6)  # global beam\n",
    "\n",
    "# Initialize SimulatedSpinLattice class, which represents the coupling matrix resulting from the above parameters\n",
    "ssl = [\n",
    "    trical.classes.SimulatedSpinLattice(\n",
    "        ti, mu[i], omega, direc=direc, k=2 * np.pi / wavelength\n",
    "    )\n",
    "    for i in range(N)\n",
    "]\n",
    "\n",
    "# Array for the coupling matrix\n",
    "J = np.array([ssl[i].J for i in range(N)])\n",
    "\n",
    "# Plot of the coupling matrix\n",
    "norm = matplotlib.colors.Normalize(J.min(), J.max())\n",
    "sm = cm.ScalarMappable(norm, cmap=cm.viridis)\n",
    "sm.set_array(J)\n",
    "\n",
    "fig = plt.figure(figsize=(20, 15))\n",
    "ax = [fig.add_subplot(4, 3, i + 1) for i in range(N)]\n",
    "for i in range(N):\n",
    "    im = ax[i].imshow(J[i], cmap=cm.viridis, norm=norm)\n",
    "    ax[i].set_xticks(np.arange(N))\n",
    "    ax[i].set_yticks(np.arange(N))\n",
    "    ax[i].set_xticklabels(np.arange(N) + 1)\n",
    "    ax[i].set_yticklabels(np.arange(N) + 1)\n",
    "    ax[i].set_xlabel(r\"$j$\", labelpad=15)\n",
    "    ax[i].set_ylabel(r\"$i$\", labelpad=15)\n",
    "    ax[i].set_title(\"Detuning near {}\".format([\"COM\", \"tilt\", \"zigzag\"][i]))\n",
    "fig.colorbar(sm, ax=ax, label=r\"$J$\")"
   ]
  },
  {
   "cell_type": "markdown",
   "metadata": {},
   "source": [
    "\n",
    "\n",
    "\n",
    "\n",
    "\n",
    "\n",
    "\n",
    "\n",
    "\n",
    "\n",
    "\n",
    "\n",
    "\n",
    "\n",
    "\n",
    "\n",
    "\n",
    "\n"
   ]
  },
  {
   "cell_type": "markdown",
   "metadata": {},
   "source": [
    "# Control Subpackage\n",
    "Consider using individual optical tweezers on the different ions to control the normal modes. Our optimization routine uses a combination of iterative diagonalization algorithm (IDA) and differential evolution (DE). Look at the IDA folder in presentation for information about the method.\n",
    "\n",
    "\n",
    "## Eigenfrequencies"
   ]
  },
  {
   "cell_type": "code",
   "execution_count": 18,
   "metadata": {
    "ExecuteTime": {
     "end_time": "2020-08-07T00:15:01.767645Z",
     "start_time": "2020-08-07T00:15:01.762644Z"
    }
   },
   "outputs": [],
   "source": [
    "# Generating random target such that we know a solution exist\n",
    "a = 1\n",
    "original_A = ti.A[a * N : (a + 1) * N, a * N : (a + 1) * N] # A matrix when there is no optical tweezers\n",
    "A = np.copy(original_A)\n",
    "\n",
    "# Adding random optical trappping on the ions\n",
    "omega_opt = np.random.rand(N)\n",
    "omega_opt = omega_opt / np.linalg.norm(omega_opt)\n",
    "omega_opt = omega_opt * omega[a] * 1e0\n",
    "A[range(N), range(N)] += omega_opt ** 2\n",
    "\n",
    "# normal modes from the additional optical traps of the ions\n",
    "target_w, target_b = np.linalg.eigh(A) \n",
    "target_w = np.flip(np.sqrt(target_w))\n",
    "target_b = np.flip(target_b, axis=-1)"
   ]
  },
  {
   "cell_type": "code",
   "execution_count": 19,
   "metadata": {
    "ExecuteTime": {
     "end_time": "2020-08-07T00:15:01.857666Z",
     "start_time": "2020-08-07T00:15:01.768645Z"
    }
   },
   "outputs": [
    {
     "name": "stdout",
     "output_type": "stream",
     "text": [
      "0         4.60872e-02         \n"
     ]
    }
   ],
   "source": [
    "# Running optimization routine for finding controls for the eigenfrequencies\n",
    "ef_res, delta_w, Ats = trical.control.nm.control_eigenfreqs_de(\n",
    "    ti,\n",
    "    target_w,\n",
    "    mutation=0.5,\n",
    "    greed=0.9,\n",
    "    crossover=0.5,\n",
    "    maxiter=100,\n",
    "    popsteps=10,\n",
    "    popsize=100,\n",
    "    direc=[\"x\", \"y\", \"z\"][a],\n",
    "    term_tol=(0, 1e1),\n",
    ")"
   ]
  },
  {
   "cell_type": "code",
   "execution_count": 20,
   "metadata": {
    "ExecuteTime": {
     "end_time": "2020-08-07T00:15:01.945685Z",
     "start_time": "2020-08-07T00:15:01.858665Z"
    }
   },
   "outputs": [
    {
     "name": "stdout",
     "output_type": "stream",
     "text": [
      "Target eigenfrequencies (rad/s):[2349832.00431924 2268592.44890583 2195890.74766548]\n",
      "Resultant eigenfrequencies (rad/s):[2349831.9852672  2268592.48620341 2195890.73799064]\n"
     ]
    }
   ],
   "source": [
    "# Calculates the power corresponding to results from the optimization routine for the optical trap strengths\n",
    "P_ef = ef_res[1] * (ef_res[0] / gop.omega[1]) ** 2\n",
    "\n",
    "# Potentials of the optical tweezers on the different ions\n",
    "gops_ef = [\n",
    "    trical.classes.GaussianOpticalPotential(\n",
    "        ti.x_ep[i],\n",
    "        P_ef[i],\n",
    "        375e-9,\n",
    "        1e-6,\n",
    "        mass=mass,\n",
    "        Omega_bar=Omega_bar,\n",
    "        transition_wavelength=transition_wavelength,\n",
    "        refractive_index=refractive_index,\n",
    "    )\n",
    "    for i in range(N)\n",
    "]\n",
    "\n",
    "# The original trapped ion system with addition of the optical tweezers on the different ions\n",
    "ti_ef = trical.classes.TrappedIons(N, pp, *gops_ef, m=mass)\n",
    "ti_ef.principle_axis()\n",
    "\n",
    "print(\"{:<30}:{}\".format(\"Target eigenfrequencies (rad/s)\", target_w))\n",
    "print(\"{:<30}:{}\".format(\"Resultant eigenfrequencies (rad/s)\", ti_ef.w_pa[a * N : (a + 1) * N]))"
   ]
  },
  {
   "cell_type": "markdown",
   "metadata": {},
   "source": [
    "## Eigenvectors"
   ]
  },
  {
   "cell_type": "code",
   "execution_count": 21,
   "metadata": {
    "ExecuteTime": {
     "end_time": "2020-08-07T00:15:02.351777Z",
     "start_time": "2020-08-07T00:15:01.946685Z"
    }
   },
   "outputs": [
    {
     "name": "stdout",
     "output_type": "stream",
     "text": [
      "0         1.57009e-16         \n"
     ]
    }
   ],
   "source": [
    "# Running optimization routine for finding controls for the eigenvectors\n",
    "ev_res, delta_b, Ats = trical.control.nm.control_eigenvecs_de(\n",
    "    ti_adp,\n",
    "    target_b,\n",
    "    scale_w=1.1,\n",
    "    mutation=0.5,\n",
    "    greed=0.9,\n",
    "    crossover=0.5,\n",
    "    maxiter=100,\n",
    "    popsteps=1,\n",
    "    popsize=100,\n",
    "    direc=[\"x\", \"y\", \"z\"][a],\n",
    "    term_tol=(0.0, 0.0),\n",
    ")"
   ]
  },
  {
   "cell_type": "code",
   "execution_count": 22,
   "metadata": {
    "ExecuteTime": {
     "end_time": "2020-08-07T00:15:02.440795Z",
     "start_time": "2020-08-07T00:15:02.352776Z"
    }
   },
   "outputs": [
    {
     "name": "stdout",
     "output_type": "stream",
     "text": [
      "Target eigenvectors:\n",
      "[[-0.77149819 -0.61165691  0.17511813]\n",
      " [-0.58701078  0.57816619 -0.5666941 ]\n",
      " [-0.24537498  0.53999971  0.80510337]]\n",
      "Resultant eigenvectors\n",
      "[[ 0.77149823 -0.6116569   0.17511801]\n",
      " [ 0.58701076  0.57816637 -0.56669394]\n",
      " [ 0.24537491  0.53999952  0.80510351]]\n"
     ]
    }
   ],
   "source": [
    "# Calculates the power corresponding to results from the optimization routine for the optical trap strengths\n",
    "P_ev = ev_res[1] * (ev_res[0] / gop.omega[1]) ** 2\n",
    "\n",
    "# Potentials of the optical tweezers on the different ions\n",
    "gops_ev = [\n",
    "    trical.classes.GaussianOpticalPotential(\n",
    "        ti.x_ep[i],\n",
    "        P_ev[i],\n",
    "        375e-9,\n",
    "        1e-6,\n",
    "        mass=mass,\n",
    "        Omega_bar=Omega_bar,\n",
    "        transition_wavelength=transition_wavelength,\n",
    "        refractive_index=refractive_index,\n",
    "    )\n",
    "    for i in range(N)\n",
    "]\n",
    "\n",
    "\n",
    "# The original trapped ion system with addition of the optical tweezers on the different ions\n",
    "ti_ev = trical.classes.TrappedIons(N, pp, *gops_ev, m=mass)\n",
    "ti_ev.principle_axis()\n",
    "\n",
    "print(\"Target eigenvectors:\")\n",
    "print(target_b)\n",
    "print(\"Resultant eigenvectors\")\n",
    "print(ti_ev.b_pa[a * N : (a + 1) * N, a * N : (a + 1) * N])"
   ]
  },
  {
   "cell_type": "code",
   "execution_count": null,
   "metadata": {},
   "outputs": [],
   "source": []
  }
 ],
 "metadata": {
  "kernelspec": {
   "display_name": "Python 3",
   "language": "python",
   "name": "python3"
  },
  "language_info": {
   "codemirror_mode": {
    "name": "ipython",
    "version": 3
   },
   "file_extension": ".py",
   "mimetype": "text/x-python",
   "name": "python",
   "nbconvert_exporter": "python",
   "pygments_lexer": "ipython3",
   "version": "3.7.6"
  },
  "latex_envs": {
   "LaTeX_envs_menu_present": true,
   "autoclose": false,
   "autocomplete": true,
   "bibliofile": "biblio.bib",
   "cite_by": "apalike",
   "current_citInitial": 1,
   "eqLabelWithNumbers": true,
   "eqNumInitial": 1,
   "hotkeys": {
    "equation": "Ctrl-E",
    "itemize": "Ctrl-I"
   },
   "labels_anchors": false,
   "latex_user_defs": false,
   "report_style_numbering": false,
   "user_envs_cfg": false
  },
  "toc": {
   "base_numbering": 1,
   "nav_menu": {},
   "number_sections": true,
   "sideBar": true,
   "skip_h1_title": false,
   "title_cell": "Table of Contents",
   "title_sidebar": "Contents",
   "toc_cell": false,
   "toc_position": {
    "height": "calc(100% - 180px)",
    "left": "10px",
    "top": "150px",
    "width": "333px"
   },
   "toc_section_display": true,
   "toc_window_display": true
  }
 },
 "nbformat": 4,
 "nbformat_minor": 2
}
